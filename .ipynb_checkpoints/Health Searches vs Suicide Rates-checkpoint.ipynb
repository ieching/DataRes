{
 "cells": [
  {
   "cell_type": "markdown",
   "metadata": {},
   "source": [
    "## Importing the required libraries"
   ]
  },
  {
   "cell_type": "code",
   "execution_count": 1,
   "metadata": {},
   "outputs": [],
   "source": [
    "import numpy as np\n",
    "import pandas as pd\n",
    "import matplotlib.pyplot as plt\n",
    "import seaborn as sns\n",
    "\n",
    "import plotly\n",
    "import plotly.plotly as py\n",
    "import plotly.graph_objs as go\n",
    "import cufflinks as cf\n",
    "\n",
    "plotly.tools.set_credentials_file(username='ieching22', api_key='28VPsP5GenfxwZS7j3D5')"
   ]
  },
  {
   "cell_type": "markdown",
   "metadata": {},
   "source": [
    "## Getting and cleaning our dataframes"
   ]
  },
  {
   "cell_type": "code",
   "execution_count": 2,
   "metadata": {},
   "outputs": [],
   "source": [
    "health_df = pd.read_csv('Health-Searches-US-Country/RegionalInterestByConditionOverTime.csv')\n",
    "suicide_df = pd.read_csv('suicide-rates-overview-1985-to-2016/master.csv')"
   ]
  },
  {
   "cell_type": "code",
   "execution_count": 3,
   "metadata": {},
   "outputs": [],
   "source": [
    "# cleaning up column names for suicide df\n",
    "suicide_df.columns = ['country', 'year', 'sex', 'age', 'suicides_no', 'population', 'suicides/100k pop', 'country-year', 'HDI for year', 'gdp_for_year', 'gdp_per_capita', 'generation']"
   ]
  },
  {
   "cell_type": "markdown",
   "metadata": {},
   "source": [
    "## Lets find the mutual years the data includes"
   ]
  },
  {
   "cell_type": "code",
   "execution_count": 4,
   "metadata": {},
   "outputs": [
    {
     "data": {
      "text/plain": [
       "array([1987, 1988, 1989, 1992, 1993, 1994, 1995, 1996, 1997, 1998, 1999,\n",
       "       2000, 2001, 2002, 2003, 2004, 2005, 2006, 2007, 2008, 2009, 2010,\n",
       "       1985, 1986, 1990, 1991, 2012, 2013, 2014, 2015, 2011, 2016],\n",
       "      dtype=int64)"
      ]
     },
     "execution_count": 4,
     "metadata": {},
     "output_type": "execute_result"
    }
   ],
   "source": [
    "suicide_df['year'].unique()"
   ]
  },
  {
   "cell_type": "code",
   "execution_count": 5,
   "metadata": {},
   "outputs": [
    {
     "data": {
      "text/plain": [
       "Index(['dma', 'geoCode', '2004+cancer', '2004+cardiovascular', '2004+stroke',\n",
       "       '2004+depression', '2004+rehab', '2004+vaccine', '2004+diarrhea',\n",
       "       '2004+obesity',\n",
       "       ...\n",
       "       '2016+diabetes', '2017+cancer', '2017+cardiovascular', '2017+stroke',\n",
       "       '2017+depression', '2017+rehab', '2017+vaccine', '2017+diarrhea',\n",
       "       '2017+obesity', '2017+diabetes'],\n",
       "      dtype='object', length=128)"
      ]
     },
     "execution_count": 5,
     "metadata": {},
     "output_type": "execute_result"
    }
   ],
   "source": [
    "health_df.columns"
   ]
  },
  {
   "cell_type": "markdown",
   "metadata": {},
   "source": [
    "The data for suicide rates range from years 1987 to 2016; The data for health searches range from years 2004 to 2017\n",
    "#### Mutual years: 2004 - 2016\n",
    "\n",
    "### However, there seems to be weird behavior in 2016 for the suicide rates - likely because insufficient data is collected. Let us stop at 2015"
   ]
  },
  {
   "cell_type": "markdown",
   "metadata": {},
   "source": [
    "# Is there a correlation between Health Searches and Suicide Rates?"
   ]
  },
  {
   "cell_type": "markdown",
   "metadata": {},
   "source": [
    "## Lets start by analyzing the progression of health searches"
   ]
  },
  {
   "cell_type": "code",
   "execution_count": 6,
   "metadata": {},
   "outputs": [
    {
     "data": {
      "text/html": [
       "<div>\n",
       "<style scoped>\n",
       "    .dataframe tbody tr th:only-of-type {\n",
       "        vertical-align: middle;\n",
       "    }\n",
       "\n",
       "    .dataframe tbody tr th {\n",
       "        vertical-align: top;\n",
       "    }\n",
       "\n",
       "    .dataframe thead th {\n",
       "        text-align: right;\n",
       "    }\n",
       "</style>\n",
       "<table border=\"1\" class=\"dataframe\">\n",
       "  <thead>\n",
       "    <tr style=\"text-align: right;\">\n",
       "      <th></th>\n",
       "      <th>dma</th>\n",
       "      <th>geoCode</th>\n",
       "      <th>2004+cancer</th>\n",
       "      <th>2004+cardiovascular</th>\n",
       "      <th>2004+stroke</th>\n",
       "      <th>2004+depression</th>\n",
       "      <th>2004+rehab</th>\n",
       "      <th>2004+vaccine</th>\n",
       "      <th>2004+diarrhea</th>\n",
       "      <th>2004+obesity</th>\n",
       "      <th>...</th>\n",
       "      <th>2016+diabetes</th>\n",
       "      <th>2017+cancer</th>\n",
       "      <th>2017+cardiovascular</th>\n",
       "      <th>2017+stroke</th>\n",
       "      <th>2017+depression</th>\n",
       "      <th>2017+rehab</th>\n",
       "      <th>2017+vaccine</th>\n",
       "      <th>2017+diarrhea</th>\n",
       "      <th>2017+obesity</th>\n",
       "      <th>2017+diabetes</th>\n",
       "    </tr>\n",
       "  </thead>\n",
       "  <tbody>\n",
       "    <tr>\n",
       "      <th>0</th>\n",
       "      <td>Portland-Auburn ME</td>\n",
       "      <td>500</td>\n",
       "      <td>44</td>\n",
       "      <td>6</td>\n",
       "      <td>17</td>\n",
       "      <td>39</td>\n",
       "      <td>21</td>\n",
       "      <td>31</td>\n",
       "      <td>14</td>\n",
       "      <td>29</td>\n",
       "      <td>...</td>\n",
       "      <td>81</td>\n",
       "      <td>70</td>\n",
       "      <td>37</td>\n",
       "      <td>83</td>\n",
       "      <td>64</td>\n",
       "      <td>56</td>\n",
       "      <td>76</td>\n",
       "      <td>66</td>\n",
       "      <td>47</td>\n",
       "      <td>80</td>\n",
       "    </tr>\n",
       "    <tr>\n",
       "      <th>1</th>\n",
       "      <td>New York NY</td>\n",
       "      <td>501</td>\n",
       "      <td>47</td>\n",
       "      <td>6</td>\n",
       "      <td>13</td>\n",
       "      <td>38</td>\n",
       "      <td>16</td>\n",
       "      <td>33</td>\n",
       "      <td>12</td>\n",
       "      <td>27</td>\n",
       "      <td>...</td>\n",
       "      <td>77</td>\n",
       "      <td>70</td>\n",
       "      <td>34</td>\n",
       "      <td>53</td>\n",
       "      <td>56</td>\n",
       "      <td>53</td>\n",
       "      <td>79</td>\n",
       "      <td>56</td>\n",
       "      <td>52</td>\n",
       "      <td>78</td>\n",
       "    </tr>\n",
       "    <tr>\n",
       "      <th>2</th>\n",
       "      <td>Binghamton NY</td>\n",
       "      <td>502</td>\n",
       "      <td>48</td>\n",
       "      <td>3</td>\n",
       "      <td>16</td>\n",
       "      <td>50</td>\n",
       "      <td>12</td>\n",
       "      <td>37</td>\n",
       "      <td>24</td>\n",
       "      <td>31</td>\n",
       "      <td>...</td>\n",
       "      <td>74</td>\n",
       "      <td>68</td>\n",
       "      <td>24</td>\n",
       "      <td>71</td>\n",
       "      <td>69</td>\n",
       "      <td>44</td>\n",
       "      <td>77</td>\n",
       "      <td>78</td>\n",
       "      <td>61</td>\n",
       "      <td>72</td>\n",
       "    </tr>\n",
       "    <tr>\n",
       "      <th>3</th>\n",
       "      <td>Macon GA</td>\n",
       "      <td>503</td>\n",
       "      <td>44</td>\n",
       "      <td>14</td>\n",
       "      <td>14</td>\n",
       "      <td>37</td>\n",
       "      <td>19</td>\n",
       "      <td>49</td>\n",
       "      <td>14</td>\n",
       "      <td>29</td>\n",
       "      <td>...</td>\n",
       "      <td>78</td>\n",
       "      <td>53</td>\n",
       "      <td>38</td>\n",
       "      <td>62</td>\n",
       "      <td>46</td>\n",
       "      <td>60</td>\n",
       "      <td>47</td>\n",
       "      <td>53</td>\n",
       "      <td>41</td>\n",
       "      <td>66</td>\n",
       "    </tr>\n",
       "    <tr>\n",
       "      <th>4</th>\n",
       "      <td>Philadelphia PA</td>\n",
       "      <td>504</td>\n",
       "      <td>52</td>\n",
       "      <td>7</td>\n",
       "      <td>16</td>\n",
       "      <td>41</td>\n",
       "      <td>23</td>\n",
       "      <td>36</td>\n",
       "      <td>14</td>\n",
       "      <td>30</td>\n",
       "      <td>...</td>\n",
       "      <td>80</td>\n",
       "      <td>75</td>\n",
       "      <td>35</td>\n",
       "      <td>61</td>\n",
       "      <td>62</td>\n",
       "      <td>75</td>\n",
       "      <td>84</td>\n",
       "      <td>69</td>\n",
       "      <td>56</td>\n",
       "      <td>78</td>\n",
       "    </tr>\n",
       "  </tbody>\n",
       "</table>\n",
       "<p>5 rows × 128 columns</p>\n",
       "</div>"
      ],
      "text/plain": [
       "                  dma  geoCode  2004+cancer  2004+cardiovascular  2004+stroke  \\\n",
       "0  Portland-Auburn ME      500           44                    6           17   \n",
       "1         New York NY      501           47                    6           13   \n",
       "2       Binghamton NY      502           48                    3           16   \n",
       "3            Macon GA      503           44                   14           14   \n",
       "4     Philadelphia PA      504           52                    7           16   \n",
       "\n",
       "   2004+depression  2004+rehab  2004+vaccine  2004+diarrhea  2004+obesity  \\\n",
       "0               39          21            31             14            29   \n",
       "1               38          16            33             12            27   \n",
       "2               50          12            37             24            31   \n",
       "3               37          19            49             14            29   \n",
       "4               41          23            36             14            30   \n",
       "\n",
       "       ...        2016+diabetes  2017+cancer  2017+cardiovascular  \\\n",
       "0      ...                   81           70                   37   \n",
       "1      ...                   77           70                   34   \n",
       "2      ...                   74           68                   24   \n",
       "3      ...                   78           53                   38   \n",
       "4      ...                   80           75                   35   \n",
       "\n",
       "   2017+stroke  2017+depression  2017+rehab  2017+vaccine  2017+diarrhea  \\\n",
       "0           83               64          56            76             66   \n",
       "1           53               56          53            79             56   \n",
       "2           71               69          44            77             78   \n",
       "3           62               46          60            47             53   \n",
       "4           61               62          75            84             69   \n",
       "\n",
       "   2017+obesity  2017+diabetes  \n",
       "0            47             80  \n",
       "1            52             78  \n",
       "2            61             72  \n",
       "3            41             66  \n",
       "4            56             78  \n",
       "\n",
       "[5 rows x 128 columns]"
      ]
     },
     "execution_count": 6,
     "metadata": {},
     "output_type": "execute_result"
    }
   ],
   "source": [
    "health_df.head()"
   ]
  },
  {
   "cell_type": "markdown",
   "metadata": {},
   "source": [
    "### Searches per Disease per Year (we want to look at 2004 - 2015)"
   ]
  },
  {
   "cell_type": "code",
   "execution_count": 7,
   "metadata": {},
   "outputs": [],
   "source": [
    "col_name = list(health_df.columns)\n",
    "\n",
    "diseases = []\n",
    "for col in col_name:\n",
    "    name = col.split('+')\n",
    "    if name[-1] not in diseases:\n",
    "        diseases.append(name[-1])\n",
    "diseases = diseases[2:]\n",
    "\n",
    "years = []\n",
    "for col in col_name:\n",
    "    name = col.split('+')\n",
    "    if name[0] not in years:\n",
    "        years.append(name[0])\n",
    "years = years[2:-2]"
   ]
  },
  {
   "cell_type": "code",
   "execution_count": 8,
   "metadata": {},
   "outputs": [
    {
     "data": {
      "text/plain": [
       "['cancer',\n",
       " 'cardiovascular',\n",
       " 'stroke',\n",
       " 'depression',\n",
       " 'rehab',\n",
       " 'vaccine',\n",
       " 'diarrhea',\n",
       " 'obesity',\n",
       " 'diabetes']"
      ]
     },
     "execution_count": 8,
     "metadata": {},
     "output_type": "execute_result"
    }
   ],
   "source": [
    "diseases"
   ]
  },
  {
   "cell_type": "code",
   "execution_count": 9,
   "metadata": {},
   "outputs": [
    {
     "data": {
      "text/plain": [
       "['2004',\n",
       " '2005',\n",
       " '2006',\n",
       " '2007',\n",
       " '2008',\n",
       " '2009',\n",
       " '2010',\n",
       " '2011',\n",
       " '2012',\n",
       " '2013',\n",
       " '2014',\n",
       " '2015']"
      ]
     },
     "execution_count": 9,
     "metadata": {},
     "output_type": "execute_result"
    }
   ],
   "source": [
    "years"
   ]
  },
  {
   "cell_type": "code",
   "execution_count": 10,
   "metadata": {},
   "outputs": [],
   "source": [
    "# Dataframe format\n",
    "# Column 1 = Year\n",
    "# Column 2 = Disease\n",
    "# Column 3 = Count\n",
    "\n",
    "# each year must appear len(disease) number of times in the list to match the disease length\n",
    "year = [value for value in years for _ in range(len(diseases))]\n",
    "\n",
    "# diseases must be repeated for len(year) number of times in the list to match the years\n",
    "disease = diseases * len(years)\n",
    "\n",
    "count = []\n",
    "\n",
    "for col in health_df.columns[2:]:\n",
    "    count.append(health_df[col].sum())"
   ]
  },
  {
   "cell_type": "code",
   "execution_count": 11,
   "metadata": {},
   "outputs": [],
   "source": [
    "disease_df = pd.DataFrame([year, disease, count]).transpose()\n",
    "disease_df.columns = ['Year', 'Disease', 'Total Number of Searches']"
   ]
  },
  {
   "cell_type": "code",
   "execution_count": 12,
   "metadata": {},
   "outputs": [],
   "source": [
    "def to_int(str):\n",
    "    return int(str)"
   ]
  },
  {
   "cell_type": "code",
   "execution_count": 13,
   "metadata": {},
   "outputs": [
    {
     "data": {
      "text/html": [
       "<div>\n",
       "<style scoped>\n",
       "    .dataframe tbody tr th:only-of-type {\n",
       "        vertical-align: middle;\n",
       "    }\n",
       "\n",
       "    .dataframe tbody tr th {\n",
       "        vertical-align: top;\n",
       "    }\n",
       "\n",
       "    .dataframe thead th {\n",
       "        text-align: right;\n",
       "    }\n",
       "</style>\n",
       "<table border=\"1\" class=\"dataframe\">\n",
       "  <thead>\n",
       "    <tr style=\"text-align: right;\">\n",
       "      <th></th>\n",
       "      <th>Year</th>\n",
       "      <th>Disease</th>\n",
       "      <th>Total Number of Searches</th>\n",
       "    </tr>\n",
       "  </thead>\n",
       "  <tbody>\n",
       "    <tr>\n",
       "      <th>0</th>\n",
       "      <td>2004</td>\n",
       "      <td>cancer</td>\n",
       "      <td>9220</td>\n",
       "    </tr>\n",
       "    <tr>\n",
       "      <th>1</th>\n",
       "      <td>2004</td>\n",
       "      <td>cardiovascular</td>\n",
       "      <td>1561</td>\n",
       "    </tr>\n",
       "    <tr>\n",
       "      <th>2</th>\n",
       "      <td>2004</td>\n",
       "      <td>stroke</td>\n",
       "      <td>3705</td>\n",
       "    </tr>\n",
       "    <tr>\n",
       "      <th>3</th>\n",
       "      <td>2004</td>\n",
       "      <td>depression</td>\n",
       "      <td>9581</td>\n",
       "    </tr>\n",
       "    <tr>\n",
       "      <th>4</th>\n",
       "      <td>2004</td>\n",
       "      <td>rehab</td>\n",
       "      <td>3967</td>\n",
       "    </tr>\n",
       "  </tbody>\n",
       "</table>\n",
       "</div>"
      ],
      "text/plain": [
       "   Year         Disease Total Number of Searches\n",
       "0  2004          cancer                     9220\n",
       "1  2004  cardiovascular                     1561\n",
       "2  2004          stroke                     3705\n",
       "3  2004      depression                     9581\n",
       "4  2004           rehab                     3967"
      ]
     },
     "execution_count": 13,
     "metadata": {},
     "output_type": "execute_result"
    }
   ],
   "source": [
    "disease_df.head()"
   ]
  },
  {
   "cell_type": "code",
   "execution_count": 14,
   "metadata": {},
   "outputs": [],
   "source": [
    "disease_df.dropna(inplace=True)"
   ]
  },
  {
   "cell_type": "code",
   "execution_count": 15,
   "metadata": {},
   "outputs": [],
   "source": [
    "disease_df['Year'] = disease_df['Year'].apply(to_int)"
   ]
  },
  {
   "cell_type": "code",
   "execution_count": 16,
   "metadata": {},
   "outputs": [
    {
     "data": {
      "text/html": [
       "<div>\n",
       "<style scoped>\n",
       "    .dataframe tbody tr th:only-of-type {\n",
       "        vertical-align: middle;\n",
       "    }\n",
       "\n",
       "    .dataframe tbody tr th {\n",
       "        vertical-align: top;\n",
       "    }\n",
       "\n",
       "    .dataframe thead th {\n",
       "        text-align: right;\n",
       "    }\n",
       "</style>\n",
       "<table border=\"1\" class=\"dataframe\">\n",
       "  <thead>\n",
       "    <tr style=\"text-align: right;\">\n",
       "      <th></th>\n",
       "      <th>Year</th>\n",
       "      <th>Disease</th>\n",
       "      <th>Total Number of Searches</th>\n",
       "    </tr>\n",
       "  </thead>\n",
       "  <tbody>\n",
       "    <tr>\n",
       "      <th>0</th>\n",
       "      <td>2004</td>\n",
       "      <td>cancer</td>\n",
       "      <td>9220</td>\n",
       "    </tr>\n",
       "    <tr>\n",
       "      <th>1</th>\n",
       "      <td>2004</td>\n",
       "      <td>cardiovascular</td>\n",
       "      <td>1561</td>\n",
       "    </tr>\n",
       "    <tr>\n",
       "      <th>2</th>\n",
       "      <td>2004</td>\n",
       "      <td>stroke</td>\n",
       "      <td>3705</td>\n",
       "    </tr>\n",
       "    <tr>\n",
       "      <th>3</th>\n",
       "      <td>2004</td>\n",
       "      <td>depression</td>\n",
       "      <td>9581</td>\n",
       "    </tr>\n",
       "    <tr>\n",
       "      <th>4</th>\n",
       "      <td>2004</td>\n",
       "      <td>rehab</td>\n",
       "      <td>3967</td>\n",
       "    </tr>\n",
       "  </tbody>\n",
       "</table>\n",
       "</div>"
      ],
      "text/plain": [
       "   Year         Disease Total Number of Searches\n",
       "0  2004          cancer                     9220\n",
       "1  2004  cardiovascular                     1561\n",
       "2  2004          stroke                     3705\n",
       "3  2004      depression                     9581\n",
       "4  2004           rehab                     3967"
      ]
     },
     "execution_count": 16,
     "metadata": {},
     "output_type": "execute_result"
    }
   ],
   "source": [
    "disease_df.head()"
   ]
  },
  {
   "cell_type": "code",
   "execution_count": 17,
   "metadata": {},
   "outputs": [],
   "source": [
    "cancer_df = disease_df[disease_df['Disease'] == 'cancer']\n",
    "cardiovascular_df = disease_df[disease_df['Disease'] == 'cardiovascular']\n",
    "stroke_df = disease_df[disease_df['Disease'] == 'stroke']\n",
    "depression_df = disease_df[disease_df['Disease'] == 'depression']\n",
    "rehab_df = disease_df[disease_df['Disease'] == 'rehab']\n",
    "vaccine_df = disease_df[disease_df['Disease'] == 'vaccine']\n",
    "diarrhea_df = disease_df[disease_df['Disease'] == 'diarrhea']\n",
    "obesity_df = disease_df[disease_df['Disease'] == 'obesity']\n",
    "diabetes_df = disease_df[disease_df['Disease'] == 'diabetes']"
   ]
  },
  {
   "cell_type": "code",
   "execution_count": 18,
   "metadata": {},
   "outputs": [
    {
     "name": "stderr",
     "output_type": "stream",
     "text": [
      "c:\\users\\iechi\\appdata\\local\\programs\\python\\python36\\lib\\site-packages\\IPython\\core\\display.py:689: UserWarning:\n",
      "\n",
      "Consider using IPython.display.IFrame instead\n",
      "\n"
     ]
    },
    {
     "data": {
      "text/html": [
       "<iframe id=\"igraph\" scrolling=\"no\" style=\"border:none;\" seamless=\"seamless\" src=\"https://plot.ly/~ieching22/67.embed\" height=\"525px\" width=\"100%\"></iframe>"
      ],
      "text/plain": [
       "<plotly.tools.PlotlyDisplay object>"
      ]
     },
     "execution_count": 18,
     "metadata": {},
     "output_type": "execute_result"
    }
   ],
   "source": [
    "# Create traces\n",
    "cancer = go.Scatter(\n",
    "    x = cancer_df['Year'],\n",
    "    y = cancer_df['Total Number of Searches'],\n",
    "    mode = 'lines+markers',\n",
    "    name = 'Cancer'\n",
    ")\n",
    "cardiovascular = go.Scatter(\n",
    "    x = cardiovascular_df['Year'],\n",
    "    y = cardiovascular_df['Total Number of Searches'],\n",
    "    mode = 'lines+markers',\n",
    "    name = 'Cardiovascular'\n",
    ")\n",
    "stroke = go.Scatter(\n",
    "    x = stroke_df['Year'],\n",
    "    y = stroke_df['Total Number of Searches'],\n",
    "    mode = 'lines+markers',\n",
    "    name = 'Stroke'\n",
    ")\n",
    "depression = go.Scatter(\n",
    "    x = depression_df['Year'],\n",
    "    y = depression_df['Total Number of Searches'],\n",
    "    mode = 'lines+markers',\n",
    "    name = 'Depression'\n",
    ")\n",
    "rehab = go.Scatter(\n",
    "    x = rehab_df['Year'],\n",
    "    y = rehab_df['Total Number of Searches'],\n",
    "    mode = 'lines+markers',\n",
    "    name = 'Rehab'\n",
    ")\n",
    "vaccine = go.Scatter(\n",
    "    x = vaccine_df['Year'],\n",
    "    y = vaccine_df['Total Number of Searches'],\n",
    "    mode = 'lines+markers',\n",
    "    name = 'Vaccine'\n",
    ")\n",
    "diarrhea = go.Scatter(\n",
    "    x = diarrhea_df['Year'],\n",
    "    y = diarrhea_df['Total Number of Searches'],\n",
    "    mode = 'lines+markers',\n",
    "    name = 'Diarrhea'\n",
    ")\n",
    "obesity = go.Scatter(\n",
    "    x = obesity_df['Year'],\n",
    "    y = obesity_df['Total Number of Searches'],\n",
    "    mode = 'lines+markers',\n",
    "    name = 'Obesity'\n",
    ")\n",
    "diabetes = go.Scatter(\n",
    "    x = diabetes_df['Year'],\n",
    "    y = diabetes_df['Total Number of Searches'],\n",
    "    mode = 'lines+markers',\n",
    "    name = 'Diabetes'\n",
    ")\n",
    "data = [cancer, cardiovascular, stroke, depression, rehab, vaccine, diarrhea, obesity, diabetes]\n",
    "\n",
    "# plotting the data\n",
    "py.iplot(data)"
   ]
  },
  {
   "cell_type": "markdown",
   "metadata": {},
   "source": [
    "## Now lets look at the progression of suicide rates"
   ]
  },
  {
   "cell_type": "code",
   "execution_count": 19,
   "metadata": {},
   "outputs": [
    {
     "data": {
      "text/html": [
       "<div>\n",
       "<style scoped>\n",
       "    .dataframe tbody tr th:only-of-type {\n",
       "        vertical-align: middle;\n",
       "    }\n",
       "\n",
       "    .dataframe tbody tr th {\n",
       "        vertical-align: top;\n",
       "    }\n",
       "\n",
       "    .dataframe thead th {\n",
       "        text-align: right;\n",
       "    }\n",
       "</style>\n",
       "<table border=\"1\" class=\"dataframe\">\n",
       "  <thead>\n",
       "    <tr style=\"text-align: right;\">\n",
       "      <th></th>\n",
       "      <th>country</th>\n",
       "      <th>year</th>\n",
       "      <th>sex</th>\n",
       "      <th>age</th>\n",
       "      <th>suicides_no</th>\n",
       "      <th>population</th>\n",
       "      <th>suicides/100k pop</th>\n",
       "      <th>country-year</th>\n",
       "      <th>HDI for year</th>\n",
       "      <th>gdp_for_year</th>\n",
       "      <th>gdp_per_capita</th>\n",
       "      <th>generation</th>\n",
       "    </tr>\n",
       "  </thead>\n",
       "  <tbody>\n",
       "    <tr>\n",
       "      <th>0</th>\n",
       "      <td>Albania</td>\n",
       "      <td>1987</td>\n",
       "      <td>male</td>\n",
       "      <td>15-24 years</td>\n",
       "      <td>21</td>\n",
       "      <td>312900</td>\n",
       "      <td>6.71</td>\n",
       "      <td>Albania1987</td>\n",
       "      <td>NaN</td>\n",
       "      <td>2,156,624,900</td>\n",
       "      <td>796</td>\n",
       "      <td>Generation X</td>\n",
       "    </tr>\n",
       "    <tr>\n",
       "      <th>1</th>\n",
       "      <td>Albania</td>\n",
       "      <td>1987</td>\n",
       "      <td>male</td>\n",
       "      <td>35-54 years</td>\n",
       "      <td>16</td>\n",
       "      <td>308000</td>\n",
       "      <td>5.19</td>\n",
       "      <td>Albania1987</td>\n",
       "      <td>NaN</td>\n",
       "      <td>2,156,624,900</td>\n",
       "      <td>796</td>\n",
       "      <td>Silent</td>\n",
       "    </tr>\n",
       "    <tr>\n",
       "      <th>2</th>\n",
       "      <td>Albania</td>\n",
       "      <td>1987</td>\n",
       "      <td>female</td>\n",
       "      <td>15-24 years</td>\n",
       "      <td>14</td>\n",
       "      <td>289700</td>\n",
       "      <td>4.83</td>\n",
       "      <td>Albania1987</td>\n",
       "      <td>NaN</td>\n",
       "      <td>2,156,624,900</td>\n",
       "      <td>796</td>\n",
       "      <td>Generation X</td>\n",
       "    </tr>\n",
       "    <tr>\n",
       "      <th>3</th>\n",
       "      <td>Albania</td>\n",
       "      <td>1987</td>\n",
       "      <td>male</td>\n",
       "      <td>75+ years</td>\n",
       "      <td>1</td>\n",
       "      <td>21800</td>\n",
       "      <td>4.59</td>\n",
       "      <td>Albania1987</td>\n",
       "      <td>NaN</td>\n",
       "      <td>2,156,624,900</td>\n",
       "      <td>796</td>\n",
       "      <td>G.I. Generation</td>\n",
       "    </tr>\n",
       "    <tr>\n",
       "      <th>4</th>\n",
       "      <td>Albania</td>\n",
       "      <td>1987</td>\n",
       "      <td>male</td>\n",
       "      <td>25-34 years</td>\n",
       "      <td>9</td>\n",
       "      <td>274300</td>\n",
       "      <td>3.28</td>\n",
       "      <td>Albania1987</td>\n",
       "      <td>NaN</td>\n",
       "      <td>2,156,624,900</td>\n",
       "      <td>796</td>\n",
       "      <td>Boomers</td>\n",
       "    </tr>\n",
       "  </tbody>\n",
       "</table>\n",
       "</div>"
      ],
      "text/plain": [
       "   country  year     sex          age  suicides_no  population  \\\n",
       "0  Albania  1987    male  15-24 years           21      312900   \n",
       "1  Albania  1987    male  35-54 years           16      308000   \n",
       "2  Albania  1987  female  15-24 years           14      289700   \n",
       "3  Albania  1987    male    75+ years            1       21800   \n",
       "4  Albania  1987    male  25-34 years            9      274300   \n",
       "\n",
       "   suicides/100k pop country-year  HDI for year   gdp_for_year  \\\n",
       "0               6.71  Albania1987           NaN  2,156,624,900   \n",
       "1               5.19  Albania1987           NaN  2,156,624,900   \n",
       "2               4.83  Albania1987           NaN  2,156,624,900   \n",
       "3               4.59  Albania1987           NaN  2,156,624,900   \n",
       "4               3.28  Albania1987           NaN  2,156,624,900   \n",
       "\n",
       "   gdp_per_capita       generation  \n",
       "0             796     Generation X  \n",
       "1             796           Silent  \n",
       "2             796     Generation X  \n",
       "3             796  G.I. Generation  \n",
       "4             796          Boomers  "
      ]
     },
     "execution_count": 19,
     "metadata": {},
     "output_type": "execute_result"
    }
   ],
   "source": [
    "suicide_df.head()"
   ]
  },
  {
   "cell_type": "markdown",
   "metadata": {},
   "source": [
    "### Total Suicides per Year (we want to look at 2004 - 2016)"
   ]
  },
  {
   "cell_type": "code",
   "execution_count": 20,
   "metadata": {},
   "outputs": [],
   "source": [
    "years = suicide_df['year'].unique()\n",
    "male_suicides = []\n",
    "female_suicides = []\n",
    "total_suicides = []\n",
    "\n",
    "for year in years:\n",
    "    suicides = suicide_df[suicide_df['year'] == year]['suicides_no'].sum()\n",
    "    total_suicides.append(suicides)\n",
    "    \n",
    "    male = suicide_df[(suicide_df['year'] == year) & (suicide_df['sex'] == 'male')]['suicides_no'].sum()\n",
    "    male_suicides.append(male)\n",
    "    \n",
    "    female = suicide_df[(suicide_df['year'] == year) & (suicide_df['sex'] == 'female')]['suicides_no'].sum()\n",
    "    female_suicides.append(female)"
   ]
  },
  {
   "cell_type": "code",
   "execution_count": 21,
   "metadata": {},
   "outputs": [],
   "source": [
    "year_df = pd.DataFrame([years, male_suicides, female_suicides, total_suicides]).transpose()\n",
    "year_df.columns = ['Year', 'Male Suicides', 'Female Suicides', 'Total Suicides']"
   ]
  },
  {
   "cell_type": "code",
   "execution_count": 22,
   "metadata": {},
   "outputs": [],
   "source": [
    "year_df.sort_values(by='Year', inplace=True)"
   ]
  },
  {
   "cell_type": "code",
   "execution_count": 23,
   "metadata": {},
   "outputs": [],
   "source": [
    "year_df = year_df.iloc[19:-1]"
   ]
  },
  {
   "cell_type": "code",
   "execution_count": 24,
   "metadata": {},
   "outputs": [
    {
     "data": {
      "text/html": [
       "<div>\n",
       "<style scoped>\n",
       "    .dataframe tbody tr th:only-of-type {\n",
       "        vertical-align: middle;\n",
       "    }\n",
       "\n",
       "    .dataframe tbody tr th {\n",
       "        vertical-align: top;\n",
       "    }\n",
       "\n",
       "    .dataframe thead th {\n",
       "        text-align: right;\n",
       "    }\n",
       "</style>\n",
       "<table border=\"1\" class=\"dataframe\">\n",
       "  <thead>\n",
       "    <tr style=\"text-align: right;\">\n",
       "      <th></th>\n",
       "      <th>Year</th>\n",
       "      <th>Male Suicides</th>\n",
       "      <th>Female Suicides</th>\n",
       "      <th>Total Suicides</th>\n",
       "    </tr>\n",
       "  </thead>\n",
       "  <tbody>\n",
       "    <tr>\n",
       "      <th>15</th>\n",
       "      <td>2004</td>\n",
       "      <td>187629</td>\n",
       "      <td>53232</td>\n",
       "      <td>240861</td>\n",
       "    </tr>\n",
       "    <tr>\n",
       "      <th>16</th>\n",
       "      <td>2005</td>\n",
       "      <td>182340</td>\n",
       "      <td>52035</td>\n",
       "      <td>234375</td>\n",
       "    </tr>\n",
       "    <tr>\n",
       "      <th>17</th>\n",
       "      <td>2006</td>\n",
       "      <td>181322</td>\n",
       "      <td>52039</td>\n",
       "      <td>233361</td>\n",
       "    </tr>\n",
       "    <tr>\n",
       "      <th>18</th>\n",
       "      <td>2007</td>\n",
       "      <td>180084</td>\n",
       "      <td>53324</td>\n",
       "      <td>233408</td>\n",
       "    </tr>\n",
       "    <tr>\n",
       "      <th>19</th>\n",
       "      <td>2008</td>\n",
       "      <td>181474</td>\n",
       "      <td>53973</td>\n",
       "      <td>235447</td>\n",
       "    </tr>\n",
       "    <tr>\n",
       "      <th>20</th>\n",
       "      <td>2009</td>\n",
       "      <td>188567</td>\n",
       "      <td>54920</td>\n",
       "      <td>243487</td>\n",
       "    </tr>\n",
       "    <tr>\n",
       "      <th>21</th>\n",
       "      <td>2010</td>\n",
       "      <td>184480</td>\n",
       "      <td>54222</td>\n",
       "      <td>238702</td>\n",
       "    </tr>\n",
       "    <tr>\n",
       "      <th>30</th>\n",
       "      <td>2011</td>\n",
       "      <td>181868</td>\n",
       "      <td>54616</td>\n",
       "      <td>236484</td>\n",
       "    </tr>\n",
       "    <tr>\n",
       "      <th>26</th>\n",
       "      <td>2012</td>\n",
       "      <td>177149</td>\n",
       "      <td>53011</td>\n",
       "      <td>230160</td>\n",
       "    </tr>\n",
       "    <tr>\n",
       "      <th>27</th>\n",
       "      <td>2013</td>\n",
       "      <td>171740</td>\n",
       "      <td>51459</td>\n",
       "      <td>223199</td>\n",
       "    </tr>\n",
       "    <tr>\n",
       "      <th>28</th>\n",
       "      <td>2014</td>\n",
       "      <td>171428</td>\n",
       "      <td>51556</td>\n",
       "      <td>222984</td>\n",
       "    </tr>\n",
       "    <tr>\n",
       "      <th>29</th>\n",
       "      <td>2015</td>\n",
       "      <td>156392</td>\n",
       "      <td>47248</td>\n",
       "      <td>203640</td>\n",
       "    </tr>\n",
       "  </tbody>\n",
       "</table>\n",
       "</div>"
      ],
      "text/plain": [
       "    Year  Male Suicides  Female Suicides  Total Suicides\n",
       "15  2004         187629            53232          240861\n",
       "16  2005         182340            52035          234375\n",
       "17  2006         181322            52039          233361\n",
       "18  2007         180084            53324          233408\n",
       "19  2008         181474            53973          235447\n",
       "20  2009         188567            54920          243487\n",
       "21  2010         184480            54222          238702\n",
       "30  2011         181868            54616          236484\n",
       "26  2012         177149            53011          230160\n",
       "27  2013         171740            51459          223199\n",
       "28  2014         171428            51556          222984\n",
       "29  2015         156392            47248          203640"
      ]
     },
     "execution_count": 24,
     "metadata": {},
     "output_type": "execute_result"
    }
   ],
   "source": [
    "year_df"
   ]
  },
  {
   "cell_type": "code",
   "execution_count": 25,
   "metadata": {},
   "outputs": [
    {
     "data": {
      "text/html": [
       "<iframe id=\"igraph\" scrolling=\"no\" style=\"border:none;\" seamless=\"seamless\" src=\"https://plot.ly/~ieching22/69.embed\" height=\"525px\" width=\"100%\"></iframe>"
      ],
      "text/plain": [
       "<plotly.tools.PlotlyDisplay object>"
      ]
     },
     "execution_count": 25,
     "metadata": {},
     "output_type": "execute_result"
    }
   ],
   "source": [
    "total = go.Scatter(\n",
    "    x = year_df['Year'],\n",
    "    y = year_df['Total Suicides'],\n",
    "    mode = 'lines+markers',\n",
    "    name = 'Total Suicides'\n",
    ")\n",
    "\n",
    "male = go.Scatter(\n",
    "    x = year_df['Year'],\n",
    "    y = year_df['Male Suicides'],\n",
    "    mode = 'lines+markers',\n",
    "    name = 'Male Suicides'\n",
    ")\n",
    "\n",
    "female = go.Scatter(\n",
    "    x = year_df['Year'],\n",
    "    y = year_df['Female Suicides'],\n",
    "    mode = 'lines+markers',\n",
    "    name = 'Female Suicides'\n",
    ")\n",
    "\n",
    "data = [total, male, female]\n",
    "\n",
    "# plotting the data\n",
    "\n",
    "py.iplot(data)"
   ]
  },
  {
   "cell_type": "markdown",
   "metadata": {},
   "source": [
    "## Is there a relation between searches and total suicides?"
   ]
  },
  {
   "cell_type": "markdown",
   "metadata": {},
   "source": [
    "### Let us first normalize the data to between 0 and 1"
   ]
  },
  {
   "cell_type": "code",
   "execution_count": 26,
   "metadata": {},
   "outputs": [],
   "source": [
    "# We first need to further clean the dataframe\n",
    "depression_df.drop(columns=['Disease'], inplace=True)\n",
    "rehab_df.drop(columns=['Disease'], inplace=True)\n",
    "obesity_df.drop(columns=['Disease'], inplace=True)"
   ]
  },
  {
   "cell_type": "code",
   "execution_count": 27,
   "metadata": {},
   "outputs": [
    {
     "name": "stderr",
     "output_type": "stream",
     "text": [
      "c:\\users\\iechi\\appdata\\local\\programs\\python\\python36\\lib\\site-packages\\sklearn\\utils\\validation.py:595: DataConversionWarning:\n",
      "\n",
      "Data with input dtype int64 was converted to float64 by MinMaxScaler.\n",
      "\n",
      "c:\\users\\iechi\\appdata\\local\\programs\\python\\python36\\lib\\site-packages\\sklearn\\utils\\validation.py:595: DataConversionWarning:\n",
      "\n",
      "Data with input dtype object was converted to float64 by MinMaxScaler.\n",
      "\n",
      "c:\\users\\iechi\\appdata\\local\\programs\\python\\python36\\lib\\site-packages\\sklearn\\utils\\validation.py:595: DataConversionWarning:\n",
      "\n",
      "Data with input dtype object was converted to float64 by MinMaxScaler.\n",
      "\n",
      "c:\\users\\iechi\\appdata\\local\\programs\\python\\python36\\lib\\site-packages\\sklearn\\utils\\validation.py:595: DataConversionWarning:\n",
      "\n",
      "Data with input dtype object was converted to float64 by MinMaxScaler.\n",
      "\n"
     ]
    }
   ],
   "source": [
    "from sklearn import preprocessing\n",
    "\n",
    "final_years = list(range(2004, 2016))\n",
    "\n",
    "# normalizing the suicide dataframe\n",
    "x = year_df.values #returns a numpy array\n",
    "min_max_scaler = preprocessing.MinMaxScaler()\n",
    "x_scaled = min_max_scaler.fit_transform(x)\n",
    "year_df = pd.DataFrame(x_scaled)\n",
    "\n",
    "# normalizing the health dataframe\n",
    "# depression\n",
    "x = depression_df.values #returns a numpy array\n",
    "min_max_scaler = preprocessing.MinMaxScaler()\n",
    "x_scaled = min_max_scaler.fit_transform(x)\n",
    "depression_df = pd.DataFrame(x_scaled)\n",
    "\n",
    "# rehab\n",
    "x = rehab_df.values #returns a numpy array\n",
    "min_max_scaler = preprocessing.MinMaxScaler()\n",
    "x_scaled = min_max_scaler.fit_transform(x)\n",
    "rehab_df = pd.DataFrame(x_scaled)\n",
    "\n",
    "# obesity\n",
    "x = obesity_df.values #returns a numpy array\n",
    "min_max_scaler = preprocessing.MinMaxScaler()\n",
    "x_scaled = min_max_scaler.fit_transform(x)\n",
    "obesity_df = pd.DataFrame(x_scaled)"
   ]
  },
  {
   "cell_type": "code",
   "execution_count": 33,
   "metadata": {},
   "outputs": [],
   "source": [
    "year_df.columns = ['Year', 'Male Suicides', 'Female Suicides', 'Total Suicides']\n",
    "depression_df.columns = ['Year', 'Total Number of Searches']\n",
    "rehab_df.columns = ['Year', 'Total Number of Searches']\n",
    "obesity_df.columns = ['Year', 'Total Number of Searches']"
   ]
  },
  {
   "cell_type": "code",
   "execution_count": 34,
   "metadata": {},
   "outputs": [
    {
     "name": "stderr",
     "output_type": "stream",
     "text": [
      "c:\\users\\iechi\\appdata\\local\\programs\\python\\python36\\lib\\site-packages\\IPython\\core\\display.py:689: UserWarning:\n",
      "\n",
      "Consider using IPython.display.IFrame instead\n",
      "\n"
     ]
    },
    {
     "data": {
      "text/html": [
       "<iframe id=\"igraph\" scrolling=\"no\" style=\"border:none;\" seamless=\"seamless\" src=\"https://plot.ly/~ieching22/71.embed\" height=\"525px\" width=\"100%\"></iframe>"
      ],
      "text/plain": [
       "<plotly.tools.PlotlyDisplay object>"
      ]
     },
     "execution_count": 34,
     "metadata": {},
     "output_type": "execute_result"
    }
   ],
   "source": [
    "total = go.Scatter(\n",
    "    x = final_years,\n",
    "    y = year_df['Total Suicides'],\n",
    "    mode = 'lines+markers',\n",
    "    name = 'Total Suicides'\n",
    ")\n",
    "\n",
    "depression = go.Scatter(\n",
    "    x = final_years,\n",
    "    y = depression_df['Total Number of Searches'],\n",
    "    mode = 'lines+markers',\n",
    "    name = 'Depression'\n",
    ")\n",
    "\n",
    "rehab = go.Scatter(\n",
    "    x = final_years,\n",
    "    y = rehab_df['Total Number of Searches'],\n",
    "    mode = 'lines+markers',\n",
    "    name = 'Rehab'\n",
    ")\n",
    "\n",
    "obesity = go.Scatter(\n",
    "    x = final_years,\n",
    "    y = obesity_df['Total Number of Searches'],\n",
    "    mode = 'lines+markers',\n",
    "    name = 'Obesity'\n",
    ")\n",
    "\n",
    "data = [total, depression, rehab, obesity]\n",
    "\n",
    "py.iplot(data)"
   ]
  },
  {
   "cell_type": "markdown",
   "metadata": {},
   "source": [
    "# There seems to be a negative correlation between searches for depression and total suicides!"
   ]
  },
  {
   "cell_type": "markdown",
   "metadata": {},
   "source": [
    "## Next, let us find statistical measures to see how correlated they are"
   ]
  },
  {
   "cell_type": "code",
   "execution_count": null,
   "metadata": {},
   "outputs": [],
   "source": []
  }
 ],
 "metadata": {
  "kernelspec": {
   "display_name": "Python 3",
   "language": "python",
   "name": "python3"
  },
  "language_info": {
   "codemirror_mode": {
    "name": "ipython",
    "version": 3
   },
   "file_extension": ".py",
   "mimetype": "text/x-python",
   "name": "python",
   "nbconvert_exporter": "python",
   "pygments_lexer": "ipython3",
   "version": "3.6.4"
  }
 },
 "nbformat": 4,
 "nbformat_minor": 2
}
